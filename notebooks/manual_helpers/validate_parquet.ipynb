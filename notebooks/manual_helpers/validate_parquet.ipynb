{
 "cells": [
  {
   "cell_type": "code",
   "execution_count": null,
   "id": "aa5e6dae",
   "metadata": {},
   "outputs": [
    {
     "name": "stdout",
     "output_type": "stream",
     "text": [
      "     year  tile_i  tile_j   row   col     r    c  type_code\n",
      "436  2015       0       2  3069  8824  3069  632          1\n",
      "367  2015       0       2  3028  8811  3028  619          1\n",
      "149  2015       0       2  3007  8795  3007  603          1\n",
      "194  2015       0       2  3018  8822  3018  630          1\n",
      "244  2015       0       2  3022  8799  3022  607          1\n",
      "Raster value: 441\n"
     ]
    },
    {
     "ename": "DBFNotFound",
     "evalue": "could not find file 'Dataset/AnnualDisturbance_1999_present/LF2015_Dist_200_CONUS/Tif/LF2015_Dist_200_CONUS.tif.vat.dbf'",
     "output_type": "error",
     "traceback": [
      "\u001b[0;31m---------------------------------------------------------------------------\u001b[0m",
      "\u001b[0;31mDBFNotFound\u001b[0m                               Traceback (most recent call last)",
      "Cell \u001b[0;32mIn[5], line 23\u001b[0m\n\u001b[1;32m     20\u001b[0m \u001b[38;5;28mprint\u001b[39m(\u001b[38;5;124m\"\u001b[39m\u001b[38;5;124mRaster value:\u001b[39m\u001b[38;5;124m\"\u001b[39m, val)\n\u001b[1;32m     22\u001b[0m \u001b[38;5;28;01mfrom\u001b[39;00m\u001b[38;5;250m \u001b[39m\u001b[38;5;21;01mdbfread\u001b[39;00m\u001b[38;5;250m \u001b[39m\u001b[38;5;28;01mimport\u001b[39;00m DBF\n\u001b[0;32m---> 23\u001b[0m vat \u001b[38;5;241m=\u001b[39m pd\u001b[38;5;241m.\u001b[39mDataFrame(\u001b[43mDBF\u001b[49m\u001b[43m(\u001b[49m\u001b[38;5;124;43m\"\u001b[39;49m\u001b[38;5;124;43mDataset/AnnualDisturbance_1999_present/LF2015_Dist_200_CONUS/Tif/LF2015_Dist_200_CONUS.tif.vat.dbf\u001b[39;49m\u001b[38;5;124;43m\"\u001b[39;49m\u001b[43m)\u001b[49m)\n\u001b[1;32m     24\u001b[0m codes \u001b[38;5;241m=\u001b[39m vat\u001b[38;5;241m.\u001b[39mloc[vat[\u001b[38;5;124m\"\u001b[39m\u001b[38;5;124mDIST_TYPE\u001b[39m\u001b[38;5;124m\"\u001b[39m]\u001b[38;5;241m.\u001b[39mstr\u001b[38;5;241m.\u001b[39mlower()\u001b[38;5;241m==\u001b[39m\u001b[38;5;124m\"\u001b[39m\u001b[38;5;124mthinning\u001b[39m\u001b[38;5;124m\"\u001b[39m,\u001b[38;5;124m\"\u001b[39m\u001b[38;5;124mVALUE\u001b[39m\u001b[38;5;124m\"\u001b[39m]\u001b[38;5;241m.\u001b[39mtolist()\n\u001b[1;32m     25\u001b[0m \u001b[38;5;28mprint\u001b[39m(\u001b[38;5;124m\"\u001b[39m\u001b[38;5;124mThinning codes:\u001b[39m\u001b[38;5;124m\"\u001b[39m, codes)\n",
      "File \u001b[0;32m/opt/homebrew/Caskroom/miniforge/base/envs/ml/lib/python3.10/site-packages/dbfread/dbf.py:110\u001b[0m, in \u001b[0;36mDBF.__init__\u001b[0;34m(self, filename, encoding, ignorecase, lowernames, parserclass, recfactory, load, raw, ignore_missing_memofile, char_decode_errors)\u001b[0m\n\u001b[1;32m    108\u001b[0m     \u001b[38;5;28mself\u001b[39m\u001b[38;5;241m.\u001b[39mfilename \u001b[38;5;241m=\u001b[39m ifind(filename)\n\u001b[1;32m    109\u001b[0m     \u001b[38;5;28;01mif\u001b[39;00m \u001b[38;5;129;01mnot\u001b[39;00m \u001b[38;5;28mself\u001b[39m\u001b[38;5;241m.\u001b[39mfilename:\n\u001b[0;32m--> 110\u001b[0m         \u001b[38;5;28;01mraise\u001b[39;00m DBFNotFound(\u001b[38;5;124m'\u001b[39m\u001b[38;5;124mcould not find file \u001b[39m\u001b[38;5;132;01m{!r}\u001b[39;00m\u001b[38;5;124m'\u001b[39m\u001b[38;5;241m.\u001b[39mformat(filename))\n\u001b[1;32m    111\u001b[0m \u001b[38;5;28;01melse\u001b[39;00m:\n\u001b[1;32m    112\u001b[0m     \u001b[38;5;28mself\u001b[39m\u001b[38;5;241m.\u001b[39mfilename \u001b[38;5;241m=\u001b[39m filename\n",
      "\u001b[0;31mDBFNotFound\u001b[0m: could not find file 'Dataset/AnnualDisturbance_1999_present/LF2015_Dist_200_CONUS/Tif/LF2015_Dist_200_CONUS.tif.vat.dbf'"
     ]
    }
   ],
   "source": [
    "p = \"events/yr=2015/tile_i=0/tile_j=2/part-2ce5fd13.parquet\"\n",
    "\n",
    "import pyarrow.dataset as ds\n",
    "import pandas as pd\n",
    "dset = ds.dataset(p, format=\"parquet\")\n",
    "df = dset.to_table().to_pandas()\n",
    "print(df.sample(5))\n",
    "\n",
    "import rasterio\n",
    "from pathlib import Path\n",
    "\n",
    "tif_path = Path(\"Dataset/AnnualDisturbance_1999_present/LF2015_Dist_200_CONUS/Tif/LC15_Dist_200.tif\")\n",
    "src = rasterio.open(tif_path)\n",
    "band = src.read(1)\n",
    "nodata = src.nodata\n",
    "\n",
    "row = int(df.iloc[0].row)\n",
    "col = int(df.iloc[0].col)\n",
    "val = band[row, col]\n",
    "print(\"Raster value:\", val)\n"
   ]
  },
  {
   "cell_type": "code",
   "execution_count": 7,
   "id": "903931b5",
   "metadata": {},
   "outputs": [
    {
     "name": "stdout",
     "output_type": "stream",
     "text": [
      "Thinning codes: [441, 442, 443, 741, 742, 743, 941]\n",
      "Is thinning pixel? True\n"
     ]
    }
   ],
   "source": [
    "from dbfread import DBF\n",
    "vat = pd.DataFrame(DBF(\"Dataset/AnnualDisturbance_1999_present/LF2015_Dist_200_CONUS/Tif/LC15_Dist_200.tif.vat.dbf\"))\n",
    "codes = vat.loc[vat[\"DIST_TYPE\"].str.lower()==\"thinning\",\"Value\"].tolist()\n",
    "print(\"Thinning codes:\", codes)\n",
    "print(\"Is thinning pixel?\", val in codes)"
   ]
  },
  {
   "cell_type": "code",
   "execution_count": null,
   "id": "a75944fd",
   "metadata": {},
   "outputs": [],
   "source": []
  }
 ],
 "metadata": {
  "kernelspec": {
   "display_name": "ml",
   "language": "python",
   "name": "python3"
  },
  "language_info": {
   "codemirror_mode": {
    "name": "ipython",
    "version": 3
   },
   "file_extension": ".py",
   "mimetype": "text/x-python",
   "name": "python",
   "nbconvert_exporter": "python",
   "pygments_lexer": "ipython3",
   "version": "3.10.18"
  }
 },
 "nbformat": 4,
 "nbformat_minor": 5
}
